{
 "cells": [
  {
   "cell_type": "markdown",
   "id": "1f278c1b",
   "metadata": {},
   "source": [
    "# Проект для «Викишоп» c BERT"
   ]
  },
  {
   "cell_type": "markdown",
   "id": "ea0de7a1",
   "metadata": {},
   "source": [
    "Интернет-магазин «Викишоп» запускает новый сервис. Теперь пользователи могут редактировать и дополнять описания товаров, как в вики-сообществах. То есть клиенты предлагают свои правки и комментируют изменения других. Магазину нужен инструмент, который будет искать токсичные комментарии и отправлять их на модерацию. \n",
    "\n",
    "Обучите модель классифицировать комментарии на позитивные и негативные. В вашем распоряжении набор данных с разметкой о токсичности правок.\n",
    "\n",
    "Постройте модель со значением метрики качества *F1* не меньше 0.75. \n",
    "\n",
    "**Инструкция по выполнению проекта**\n",
    "\n",
    "1. Загрузите и подготовьте данные.\n",
    "2. Обучите разные модели. \n",
    "3. Сделайте выводы.\n",
    "\n",
    "Для выполнения проекта применять *BERT* необязательно, но вы можете попробовать.\n",
    "\n",
    "**Описание данных**\n",
    "\n",
    "Данные находятся в файле `toxic_comments.csv`. Столбец *text* в нём содержит текст комментария, а *toxic* — целевой признак."
   ]
  },
  {
   "cell_type": "code",
   "execution_count": 1,
   "id": "c9fdaec9",
   "metadata": {},
   "outputs": [],
   "source": [
    "%%capture\n",
    "!pip3 install -U spacy\n",
    "!pip3 install -U spacy-lookups-data\n",
    "!python -m spacy download en"
   ]
  },
  {
   "cell_type": "code",
   "execution_count": 2,
   "id": "69eed58d",
   "metadata": {},
   "outputs": [],
   "source": [
    "import warnings\n",
    "warnings.filterwarnings(\"ignore\")"
   ]
  },
  {
   "cell_type": "code",
   "execution_count": 41,
   "id": "0fccb0ac",
   "metadata": {},
   "outputs": [
    {
     "name": "stderr",
     "output_type": "stream",
     "text": [
      "[nltk_data] Downloading package stopwords to\n",
      "[nltk_data]     C:\\Users\\Grine\\AppData\\Roaming\\nltk_data...\n",
      "[nltk_data]   Package stopwords is already up-to-date!\n",
      "[nltk_data] Downloading package wordnet to\n",
      "[nltk_data]     C:\\Users\\Grine\\AppData\\Roaming\\nltk_data...\n",
      "[nltk_data]   Package wordnet is already up-to-date!\n"
     ]
    }
   ],
   "source": [
    "# импортируем необходимые библиотеки для работы с данным\n",
    "import pandas as pd\n",
    "import numpy as np\n",
    "import random\n",
    "\n",
    "# библиотки для работы с текстом\n",
    "import re\n",
    "from nltk.corpus import stopwords \n",
    "import spacy\n",
    "import en_core_web_sm\n",
    "from nltk.tokenize import word_tokenize\n",
    "from sklearn.feature_extraction.text import TfidfVectorizer\n",
    "from concurrent.futures import ProcessPoolExecutor\n",
    "\n",
    "import nltk\n",
    "nltk.download('stopwords') \n",
    "nltk.download('wordnet')\n",
    "\n",
    "# подготовка данных для моделирование\n",
    "import torch\n",
    "from sklearn.model_selection import train_test_split\n",
    "from sklearn.model_selection import RandomizedSearchCV, GridSearchCV\n",
    "import transformers\n",
    "from transformers import BertTokenizer\n",
    "\n",
    "# модели\n",
    "from sklearn.linear_model import LogisticRegression\n",
    "from sklearn.ensemble import RandomForestClassifier \n",
    "from catboost import CatBoostClassifier\n",
    "\n",
    "# метрики\n",
    "from sklearn.metrics import f1_score, confusion_matrix, precision_score, recall_score\n",
    "\n",
    "\n",
    "# визуализация\n",
    "import matplotlib.pyplot as plt\n",
    "from tqdm import tqdm\n",
    "\n",
    "random.seed(42)"
   ]
  },
  {
   "cell_type": "markdown",
   "id": "2d028f94",
   "metadata": {},
   "source": [
    "## Загрузка и EDA"
   ]
  },
  {
   "cell_type": "code",
   "execution_count": 4,
   "id": "f624dc04",
   "metadata": {},
   "outputs": [],
   "source": [
    "df = pd.read_csv(r'C:\\Users\\Grine\\Desktop\\toxic_comments.csv', index_col='Unnamed: 0')\n",
    "#df = pd.read_csv('/datasets/toxic_comments.csvv', index_col='Unnamed: 0')"
   ]
  },
  {
   "cell_type": "markdown",
   "id": "73e809b0",
   "metadata": {},
   "source": [
    "*Сразу проверим пропуски и типы*"
   ]
  },
  {
   "cell_type": "code",
   "execution_count": 5,
   "id": "b4f0324f",
   "metadata": {},
   "outputs": [
    {
     "name": "stdout",
     "output_type": "stream",
     "text": [
      "<class 'pandas.core.frame.DataFrame'>\n",
      "Index: 159292 entries, 0 to 159450\n",
      "Data columns (total 2 columns):\n",
      " #   Column  Non-Null Count   Dtype \n",
      "---  ------  --------------   ----- \n",
      " 0   text    159292 non-null  object\n",
      " 1   toxic   159292 non-null  int64 \n",
      "dtypes: int64(1), object(1)\n",
      "memory usage: 3.6+ MB\n"
     ]
    }
   ],
   "source": [
    "df.info()"
   ]
  },
  {
   "cell_type": "code",
   "execution_count": 6,
   "id": "a50ea3b1",
   "metadata": {},
   "outputs": [
    {
     "data": {
      "text/html": [
       "<div>\n",
       "<style scoped>\n",
       "    .dataframe tbody tr th:only-of-type {\n",
       "        vertical-align: middle;\n",
       "    }\n",
       "\n",
       "    .dataframe tbody tr th {\n",
       "        vertical-align: top;\n",
       "    }\n",
       "\n",
       "    .dataframe thead th {\n",
       "        text-align: right;\n",
       "    }\n",
       "</style>\n",
       "<table border=\"1\" class=\"dataframe\">\n",
       "  <thead>\n",
       "    <tr style=\"text-align: right;\">\n",
       "      <th></th>\n",
       "      <th>text</th>\n",
       "      <th>toxic</th>\n",
       "    </tr>\n",
       "  </thead>\n",
       "  <tbody>\n",
       "    <tr>\n",
       "      <th>119123</th>\n",
       "      <td>\"\"\"</td>\n",
       "      <td>1</td>\n",
       "    </tr>\n",
       "    <tr>\n",
       "      <th>136036</th>\n",
       "      <td>wikipedia-watch.org ALL TRUE 100% LOL!!!\"</td>\n",
       "      <td>0</td>\n",
       "    </tr>\n",
       "    <tr>\n",
       "      <th>93328</th>\n",
       "      <td>!\\n\\nI won't stop!  LOCK IT UP A$$HOLE</td>\n",
       "      <td>1</td>\n",
       "    </tr>\n",
       "    <tr>\n",
       "      <th>124432</th>\n",
       "      <td>!\\n\\nIt is now inside your bones, your head. H...</td>\n",
       "      <td>1</td>\n",
       "    </tr>\n",
       "    <tr>\n",
       "      <th>9296</th>\n",
       "      <td>!\\n\\nSuck my DIHCK! Nihgga!\\n\\nYou don't want ...</td>\n",
       "      <td>1</td>\n",
       "    </tr>\n",
       "  </tbody>\n",
       "</table>\n",
       "</div>"
      ],
      "text/plain": [
       "                                                     text  toxic\n",
       "119123                                                \"\"\"      1\n",
       "136036          wikipedia-watch.org ALL TRUE 100% LOL!!!\"      0\n",
       "93328              !\\n\\nI won't stop!  LOCK IT UP A$$HOLE      1\n",
       "124432  !\\n\\nIt is now inside your bones, your head. H...      1\n",
       "9296    !\\n\\nSuck my DIHCK! Nihgga!\\n\\nYou don't want ...      1"
      ]
     },
     "execution_count": 6,
     "metadata": {},
     "output_type": "execute_result"
    }
   ],
   "source": [
    "df.sort_values(by='text').head(5)"
   ]
  },
  {
   "cell_type": "markdown",
   "id": "97911db9",
   "metadata": {},
   "source": [
    "*В данных есть выбросы. Необходимо избавиться от них. Попробуем очистить данные с помощь regex*"
   ]
  },
  {
   "cell_type": "code",
   "execution_count": 7,
   "id": "8021e60e",
   "metadata": {},
   "outputs": [],
   "source": [
    "# теперь инциализируем функцию, которая будет предобрабтывать и лематизировать текст\n",
    "def clean_text(text: str) -> str:\n",
    "    '''\n",
    "    Функция избавляет текст от лишних символов\n",
    "    '''\n",
    "    \n",
    "    # очистка\n",
    "    text = text.lower()\n",
    "    text_clean = re.sub(r'[^a-zA-Z]', ' ', text)\n",
    "    splited_clean_text = text_clean.split()\n",
    "    text_clean = ' '.join(splited_clean_text)\n",
    "    \n",
    "    # результат\n",
    "    return text_clean"
   ]
  },
  {
   "cell_type": "code",
   "execution_count": 8,
   "id": "bbaf830f",
   "metadata": {},
   "outputs": [],
   "source": [
    "df['text'] = df.text.apply(lambda x: clean_text(x))"
   ]
  },
  {
   "cell_type": "markdown",
   "id": "51f461b1",
   "metadata": {},
   "source": [
    "*Для эффективной очистки посчитаем кол-во слов*"
   ]
  },
  {
   "cell_type": "code",
   "execution_count": 9,
   "id": "4c495e4e",
   "metadata": {},
   "outputs": [
    {
     "data": {
      "image/png": "[encoded data removed]",
      "text/plain": [
       "<Figure size 1000x500 with 1 Axes>"
      ]
     },
     "metadata": {},
     "output_type": "display_data"
    },
    {
     "name": "stdout",
     "output_type": "stream",
     "text": [
      "\n",
      " Описательная статистика признака \"word_count\":\n"
     ]
    },
    {
     "data": {
      "text/plain": [
       "count    159292.000000\n",
       "mean         68.072182\n",
       "std         100.838005\n",
       "min           0.000000\n",
       "25%          17.000000\n",
       "50%          36.000000\n",
       "75%          76.000000\n",
       "max        1403.000000\n",
       "Name: word_count, dtype: float64"
      ]
     },
     "execution_count": 9,
     "metadata": {},
     "output_type": "execute_result"
    }
   ],
   "source": [
    "df['word_count'] = [len(t.split()) for t in df['text']]\n",
    "plt.figure(figsize=(10, 5))\n",
    "ax = plt.gca()\n",
    "\n",
    "positions = [0, 1]\n",
    "ax.boxplot([df[df['toxic'] == 0]['word_count'], df[df['toxic'] == 1]['word_count']], positions=positions)\n",
    "\n",
    "ax.set_xticks(positions)\n",
    "ax.set_xticklabels(['Non-Toxic', 'Toxic'])\n",
    "plt.grid(True)\n",
    "plt.title('Распределение количества слов')\n",
    "plt.show()\n",
    "\n",
    "print('\\n Описательная статистика признака \"word_count\":')\n",
    "df['word_count'].describe()"
   ]
  },
  {
   "cell_type": "markdown",
   "id": "608e8dfb",
   "metadata": {},
   "source": [
    "*Видно, что в обоих классах существуют аномально выоские и аномально низкие значения. Можно очистить данные, оставив только те комменатрии, где больше 10 и меньше 100 слов.*"
   ]
  },
  {
   "cell_type": "code",
   "execution_count": 10,
   "id": "cd5885a9",
   "metadata": {},
   "outputs": [],
   "source": [
    "df = df[(df['word_count'] < 100) & (df['word_count'] > 10)]"
   ]
  },
  {
   "cell_type": "code",
   "execution_count": 11,
   "id": "23289415",
   "metadata": {},
   "outputs": [
    {
     "name": "stdout",
     "output_type": "stream",
     "text": [
      "Процент положительных классов: 9.9\n"
     ]
    }
   ],
   "source": [
    "print('Процент положительных классов:', round(df['toxic'].sum()/len(df['toxic'])*100, 1))"
   ]
  },
  {
   "cell_type": "markdown",
   "id": "d61a5920",
   "metadata": {},
   "source": [
    "*10% объектов клаcса положительные. Стоит помнить об этом, при моделирование! Бороться с дисбалансом в данной задаче не надо.*"
   ]
  },
  {
   "cell_type": "markdown",
   "id": "b0223e13",
   "metadata": {},
   "source": [
    "### Подготовка данных TF-IDF"
   ]
  },
  {
   "cell_type": "code",
   "execution_count": 29,
   "id": "5d7b8932",
   "metadata": {},
   "outputs": [
    {
     "name": "stdout",
     "output_type": "stream",
     "text": [
      "Wall time: 6min 58s\n"
     ]
    }
   ],
   "source": [
    "%%time\n",
    "# Загружаем языковую модель для английского языка\n",
    "nlp = spacy.load(\"en_core_web_sm\")\n",
    "\n",
    "# Функция для лемматизации текста с использованием SpaCy\n",
    "def lemmatize_with_spacy(text):\n",
    "    doc = nlp(text)\n",
    "    lemmatized_words = [token.lemma_ for token in doc]\n",
    "    return ' '.join(lemmatized_words)\n",
    "\n",
    "df['lemmas'] = df.text.apply(lambda x: lemmatize_with_spacy(x))"
   ]
  },
  {
   "cell_type": "code",
   "execution_count": 30,
   "id": "e67226e9",
   "metadata": {},
   "outputs": [
    {
     "name": "stdout",
     "output_type": "stream",
     "text": [
      "Размер матрицы: (85678, 79600)\n"
     ]
    }
   ],
   "source": [
    "# подготовим данные без берта\n",
    "X_train, X_test, y_train, y_test = train_test_split(df['lemmas'], df.toxic,\n",
    "                                                    stratify=df.toxic, # поскольку есть явный дисбаланс классов\n",
    "                                                    shuffle=True,\n",
    "                                                    train_size=0.8,\n",
    "                                                    random_state=42)\n",
    "\n",
    "stop_words = set(stopwords.words('english'))\n",
    "\n",
    "# Инициализация TfidfVectorizer с использованием списка стоп-слов\n",
    "tfidf_vectorizer = TfidfVectorizer(stop_words=stop_words)\n",
    "\n",
    "# Преобразование текста в TF-IDF матрицу\n",
    "X_train = tfidf_vectorizer.fit_transform(X_train)\n",
    "X_test = tfidf_vectorizer.transform(X_test)\n",
    "\n",
    "print(\"Размер матрицы:\", X_train.shape)"
   ]
  },
  {
   "cell_type": "markdown",
   "id": "31b4e6f2",
   "metadata": {},
   "source": [
    "**Данные подготовлены для базового моделирования!**"
   ]
  },
  {
   "cell_type": "markdown",
   "id": "787561a7",
   "metadata": {},
   "source": [
    "### Подготовка данных BERT"
   ]
  },
  {
   "cell_type": "markdown",
   "id": "21e51df0",
   "metadata": {},
   "source": [
    "*Для берт такой объём данных - слишком большой. Поэтому мы возьмём только 10.000 положительных, и, 10.000 отрциательных комментариев*"
   ]
  },
  {
   "cell_type": "code",
   "execution_count": 64,
   "id": "f41591e4",
   "metadata": {},
   "outputs": [],
   "source": [
    "df_bert = pd.concat([df[df.toxic == 0].sample(1000, random_state=42).reset_index(drop=True),\n",
    "                     df[df.toxic == 1].sample(1000, random_state=42).reset_index(drop=True)])[['text', 'toxic']]"
   ]
  },
  {
   "cell_type": "markdown",
   "id": "4a3e56a9",
   "metadata": {},
   "source": [
    "*Инциализируем токенайзер и применим к нашему тексту*"
   ]
  },
  {
   "cell_type": "code",
   "execution_count": 65,
   "id": "d19c2cba",
   "metadata": {},
   "outputs": [],
   "source": [
    "tokenizer = BertTokenizer.from_pretrained('bert-base-uncased')\n",
    "\n",
    "tokenized = df_bert['text'].apply(\n",
    "    lambda x: tokenizer.encode(x, add_special_tokens=True))"
   ]
  },
  {
   "cell_type": "markdown",
   "id": "0944b9e9",
   "metadata": {},
   "source": [
    "*Найдём максимальную длину последоватльности (комментариев) и п преобразуем необходимым образом наш исходный массив*"
   ]
  },
  {
   "cell_type": "code",
   "execution_count": 34,
   "id": "92485e5e",
   "metadata": {},
   "outputs": [],
   "source": [
    "max_len = 512\n",
    "for i in tokenized.values:\n",
    "    if len(i) > max_len:\n",
    "        max_len = len(i)\n",
    "        \n",
    "padded = np.array([i + [0]*(max_len - len(i)) for i in tokenized.values])\n",
    "\n",
    "attention_mask = np.where(padded != 0, 1, 0)"
   ]
  },
  {
   "cell_type": "code",
   "execution_count": 35,
   "id": "0e723c12",
   "metadata": {},
   "outputs": [
    {
     "name": "stderr",
     "output_type": "stream",
     "text": [
      "Some weights of the model checkpoint at bert-base-uncased were not used when initializing BertModel: ['cls.predictions.transform.LayerNorm.bias', 'cls.predictions.decoder.weight', 'cls.predictions.transform.dense.bias', 'cls.predictions.transform.dense.weight', 'cls.predictions.transform.LayerNorm.weight', 'cls.seq_relationship.weight', 'cls.predictions.bias', 'cls.seq_relationship.bias']\n",
      "- This IS expected if you are initializing BertModel from the checkpoint of a model trained on another task or with another architecture (e.g. initializing a BertForSequenceClassification model from a BertForPreTraining model).\n",
      "- This IS NOT expected if you are initializing BertModel from the checkpoint of a model that you expect to be exactly identical (initializing a BertForSequenceClassification model from a BertForSequenceClassification model).\n"
     ]
    }
   ],
   "source": [
    "# инициализируем нашу берт модель\n",
    "model = transformers.BertModel.from_pretrained('bert-base-uncased')"
   ]
  },
  {
   "cell_type": "code",
   "execution_count": 36,
   "id": "efe931a0",
   "metadata": {},
   "outputs": [
    {
     "name": "stderr",
     "output_type": "stream",
     "text": [
      "100%|██████████████████████████████████████████████████████████████████████████████████| 20/20 [11:09<00:00, 33.49s/it]\n"
     ]
    }
   ],
   "source": [
    "batch_size = 100\n",
    "embeddings = []\n",
    "for i in tqdm(range(padded.shape[0] // batch_size)):\n",
    "        batch = torch.LongTensor(padded[batch_size*i:batch_size*(i+1)]) \n",
    "        attention_mask_batch = torch.LongTensor(attention_mask[batch_size*i:batch_size*(i+1)])\n",
    "        \n",
    "        with torch.no_grad():\n",
    "            batch_embeddings = model(batch, attention_mask=attention_mask_batch)\n",
    "        \n",
    "        embeddings.append(batch_embeddings[0][:,0,:].numpy())"
   ]
  },
  {
   "cell_type": "code",
   "execution_count": 37,
   "id": "a7e14743",
   "metadata": {},
   "outputs": [],
   "source": [
    "# создадим набор признаков\n",
    "features = np.concatenate(embeddings)"
   ]
  },
  {
   "cell_type": "markdown",
   "id": "265dd248",
   "metadata": {},
   "source": [
    "## Обучение"
   ]
  },
  {
   "cell_type": "markdown",
   "id": "572a4749",
   "metadata": {},
   "source": [
    "**Линейная регрессия**"
   ]
  },
  {
   "cell_type": "code",
   "execution_count": 46,
   "id": "abf779a7",
   "metadata": {},
   "outputs": [
    {
     "name": "stdout",
     "output_type": "stream",
     "text": [
      "Результаты линейной регрессии: 0.75\n"
     ]
    }
   ],
   "source": [
    "log_reg_params = {\n",
    "    'penalty': ['l1', 'l2', None],\n",
    "    'C': range(5, 15)\n",
    "}\n",
    "\n",
    "model = LogisticRegression()\n",
    "grid = GridSearchCV(model, log_reg_params, scoring='f1', cv=3, n_jobs=-1)\n",
    "\n",
    "grid.fit(X_train, y_train)\n",
    "\n",
    "print('Результаты линейной регрессии:', round(grid.best_score_, 2))"
   ]
  },
  {
   "cell_type": "markdown",
   "id": "93079d86",
   "metadata": {},
   "source": [
    "*Результаты на валидацию дают целевое значение заявленное в требование заказчика. Протестируем:*"
   ]
  },
  {
   "cell_type": "code",
   "execution_count": 53,
   "id": "697e7ecc",
   "metadata": {},
   "outputs": [
    {
     "name": "stdout",
     "output_type": "stream",
     "text": [
      "f1 метрика на тесте: 0.77\n"
     ]
    }
   ],
   "source": [
    "best_log_reg = grid.best_estimator_\n",
    "best_log_reg.fit(X_train, y_train)\n",
    "\n",
    "print('f1 метрика на тесте:', round(f1_score(best_log_reg.predict(X_test), y_test), 2))"
   ]
  },
  {
   "cell_type": "markdown",
   "id": "d6a421c9",
   "metadata": {},
   "source": [
    "*Логистическая регрессия с выбранной предобработкой даёт целевой результат. Тем не менее, попробуем улучшить метрику, используя BERT-предобработку.*"
   ]
  },
  {
   "cell_type": "markdown",
   "id": "d8492c2a",
   "metadata": {},
   "source": [
    "### Линейная регрессия, с BERT."
   ]
  },
  {
   "cell_type": "code",
   "execution_count": 55,
   "id": "7c2d8a6c",
   "metadata": {},
   "outputs": [],
   "source": [
    "# подготовим данные без берта\n",
    "X_train_bert, X_test_bert, y_train_bert, y_test_bert = train_test_split(features, df_bert.toxic,\n",
    "                                                    stratify=df_bert.toxic, # поскольку есть явный дисбаланс классов\n",
    "                                                    shuffle=True,\n",
    "                                                    train_size=0.8,\n",
    "                                                    random_state=42)"
   ]
  },
  {
   "cell_type": "code",
   "execution_count": 56,
   "id": "4486936f",
   "metadata": {},
   "outputs": [
    {
     "name": "stdout",
     "output_type": "stream",
     "text": [
      "Результаты линейной регрессии BERT: 0.86\n"
     ]
    }
   ],
   "source": [
    "log_reg_params = {\n",
    "    'penalty': ['l1', 'l2', None],\n",
    "    'C': range(5, 15)\n",
    "}\n",
    "\n",
    "model = LogisticRegression()\n",
    "grid = GridSearchCV(model, log_reg_params, scoring='f1', cv=3, n_jobs=-1)\n",
    "\n",
    "grid.fit(X_train_bert, y_train_bert)\n",
    "\n",
    "print('Результаты линейной регрессии BERT:', round(grid.best_score_, 2))"
   ]
  },
  {
   "cell_type": "code",
   "execution_count": 60,
   "id": "65c67282",
   "metadata": {},
   "outputs": [
    {
     "name": "stdout",
     "output_type": "stream",
     "text": [
      "f1 метрика на тесте BERT: 0.87\n"
     ]
    }
   ],
   "source": [
    "best_log_reg = grid.best_estimator_\n",
    "best_log_reg.fit(X_train_bert, y_train_bert)\n",
    "\n",
    "preds = best_log_reg.predict(X_test_bert)\n",
    "print('f1 метрика на тесте BERT:', round(f1_score(preds, y_test_bert), 2))"
   ]
  },
  {
   "cell_type": "markdown",
   "id": "0fb77754",
   "metadata": {},
   "source": [
    "*Результаты соотвествует ожидаемому требованию. Построим матрицу ошибок:*"
   ]
  },
  {
   "cell_type": "code",
   "execution_count": 61,
   "id": "4125e6ad",
   "metadata": {},
   "outputs": [
    {
     "data": {
      "image/png": "[encoded data removed]",
      "text/plain": [
       "<Figure size 800x600 with 2 Axes>"
      ]
     },
     "metadata": {},
     "output_type": "display_data"
    }
   ],
   "source": [
    "# Рассчитываем матрицу ошибок, полноту, точность и F1-меру\n",
    "conf_matrix = confusion_matrix(y_test_bert, preds)\n",
    "precision = precision_score(y_test_bert, preds)\n",
    "recall = recall_score(y_test_bert, preds)\n",
    "f1 = f1_score(y_test_bert, preds)\n",
    "\n",
    "# Создаем график матрицы ошибок\n",
    "plt.figure(figsize=(8, 6))\n",
    "plt.imshow(conf_matrix, interpolation='nearest', cmap=plt.cm.Blues)\n",
    "plt.title(\"Confusion Matrix\")\n",
    "plt.colorbar()\n",
    "\n",
    "classes = [\"Negative\", \"Positive\"]\n",
    "tick_marks = np.arange(len(classes))\n",
    "plt.xticks(tick_marks, classes)\n",
    "plt.yticks(tick_marks, classes)\n",
    "\n",
    "# Добавляем значения в ячейки матрицы\n",
    "thresh = conf_matrix.max() / 2.0\n",
    "for i, j in np.ndindex(conf_matrix.shape):\n",
    "    plt.text(j, i, format(conf_matrix[i, j], 'd'),\n",
    "             horizontalalignment=\"center\",\n",
    "             color=\"white\" if conf_matrix[i, j] > thresh else \"black\")\n",
    "\n",
    "plt.xlabel('Predicted')\n",
    "plt.ylabel('True')\n",
    "plt.tight_layout()\n",
    "\n",
    "# Выводим метрики (полноту, точность, F1-меру) на графике\n",
    "metrics_text = f'Precision: {precision:.2f}\\nRecall: {recall:.2f}\\nF1 Score: {f1:.2f}'\n",
    "plt.text(0, -1, metrics_text, fontsize=12)\n",
    "\n",
    "plt.show()"
   ]
  },
  {
   "cell_type": "markdown",
   "id": "740ae38d",
   "metadata": {},
   "source": [
    "## Выводы"
   ]
  },
  {
   "cell_type": "markdown",
   "id": "4c8f5df9",
   "metadata": {},
   "source": [
    "В результате проведённого исследования, была создана модель, которое потребовалось всего 2.000 наблюдений для достижения целевой метрики f1-score. \n",
    "\n",
    "Важно, что модель работает с учётом дисбалансов классов, модель сбалансирована, как с точки зрения полноты, так, и, с точки зрения плотности. \n",
    "\n",
    "Результаты соответствуют значению f1-score - 0.87. Такая модель должна эффективно справляться с задачей классификации вредоносных комментариев. Тем не менее, у модели есть потенциал для роста, мы можем использовать большую выборку для обучения."
   ]
  }
 ],
 "metadata": {
  "ExecuteTimeLog": [
   {
    "duration": 91,
    "start_time": "2023-10-07T09:37:04.425Z"
   },
   {
    "duration": 14298,
    "start_time": "2023-10-07T09:37:04.519Z"
   },
   {
    "duration": 0,
    "start_time": "2023-10-07T09:37:18.821Z"
   },
   {
    "duration": 0,
    "start_time": "2023-10-07T09:37:18.822Z"
   },
   {
    "duration": 0,
    "start_time": "2023-10-07T09:37:18.825Z"
   },
   {
    "duration": 0,
    "start_time": "2023-10-07T09:37:18.826Z"
   },
   {
    "duration": 0,
    "start_time": "2023-10-07T09:37:18.826Z"
   },
   {
    "duration": 0,
    "start_time": "2023-10-07T09:37:18.827Z"
   },
   {
    "duration": 0,
    "start_time": "2023-10-07T09:37:18.827Z"
   },
   {
    "duration": 0,
    "start_time": "2023-10-07T09:37:18.828Z"
   },
   {
    "duration": 0,
    "start_time": "2023-10-07T09:37:18.907Z"
   },
   {
    "duration": 0,
    "start_time": "2023-10-07T09:37:18.908Z"
   },
   {
    "duration": 0,
    "start_time": "2023-10-07T09:37:18.910Z"
   },
   {
    "duration": 0,
    "start_time": "2023-10-07T09:37:18.911Z"
   },
   {
    "duration": 0,
    "start_time": "2023-10-07T09:37:18.912Z"
   },
   {
    "duration": 0,
    "start_time": "2023-10-07T09:37:18.914Z"
   },
   {
    "duration": 0,
    "start_time": "2023-10-07T09:37:18.915Z"
   },
   {
    "duration": 0,
    "start_time": "2023-10-07T09:37:18.921Z"
   },
   {
    "duration": 0,
    "start_time": "2023-10-07T09:37:18.922Z"
   },
   {
    "duration": 0,
    "start_time": "2023-10-07T09:37:18.923Z"
   },
   {
    "duration": 0,
    "start_time": "2023-10-07T09:37:18.924Z"
   },
   {
    "duration": 1,
    "start_time": "2023-10-07T09:37:19.008Z"
   },
   {
    "duration": 0,
    "start_time": "2023-10-07T09:37:19.010Z"
   },
   {
    "duration": 0,
    "start_time": "2023-10-07T09:37:19.011Z"
   },
   {
    "duration": 0,
    "start_time": "2023-10-07T09:37:19.012Z"
   },
   {
    "duration": 0,
    "start_time": "2023-10-07T09:37:19.015Z"
   },
   {
    "duration": 102,
    "start_time": "2023-10-07T09:37:42.319Z"
   },
   {
    "duration": 50498,
    "start_time": "2023-10-07T09:37:42.423Z"
   },
   {
    "duration": 2515,
    "start_time": "2023-10-07T09:38:33.006Z"
   },
   {
    "duration": 0,
    "start_time": "2023-10-07T09:38:35.620Z"
   },
   {
    "duration": 0,
    "start_time": "2023-10-07T09:38:35.623Z"
   },
   {
    "duration": 0,
    "start_time": "2023-10-07T09:38:35.627Z"
   },
   {
    "duration": 0,
    "start_time": "2023-10-07T09:38:35.729Z"
   },
   {
    "duration": 0,
    "start_time": "2023-10-07T09:38:35.730Z"
   },
   {
    "duration": 0,
    "start_time": "2023-10-07T09:38:35.733Z"
   },
   {
    "duration": 0,
    "start_time": "2023-10-07T09:38:35.735Z"
   },
   {
    "duration": 0,
    "start_time": "2023-10-07T09:38:35.736Z"
   },
   {
    "duration": 0,
    "start_time": "2023-10-07T09:38:35.738Z"
   },
   {
    "duration": 0,
    "start_time": "2023-10-07T09:38:35.739Z"
   },
   {
    "duration": 0,
    "start_time": "2023-10-07T09:38:35.741Z"
   },
   {
    "duration": 0,
    "start_time": "2023-10-07T09:38:35.744Z"
   },
   {
    "duration": 0,
    "start_time": "2023-10-07T09:38:35.745Z"
   },
   {
    "duration": 0,
    "start_time": "2023-10-07T09:38:35.807Z"
   },
   {
    "duration": 0,
    "start_time": "2023-10-07T09:38:35.809Z"
   },
   {
    "duration": 0,
    "start_time": "2023-10-07T09:38:35.810Z"
   },
   {
    "duration": 0,
    "start_time": "2023-10-07T09:38:35.814Z"
   },
   {
    "duration": 1,
    "start_time": "2023-10-07T09:38:35.815Z"
   },
   {
    "duration": 0,
    "start_time": "2023-10-07T09:38:35.817Z"
   },
   {
    "duration": 0,
    "start_time": "2023-10-07T09:38:35.821Z"
   },
   {
    "duration": 0,
    "start_time": "2023-10-07T09:38:35.823Z"
   },
   {
    "duration": 0,
    "start_time": "2023-10-07T09:38:35.825Z"
   },
   {
    "duration": 0,
    "start_time": "2023-10-07T09:38:35.825Z"
   },
   {
    "duration": 52,
    "start_time": "2023-10-07T09:41:43.370Z"
   },
   {
    "duration": 2,
    "start_time": "2023-10-07T09:41:46.483Z"
   },
   {
    "duration": 4705,
    "start_time": "2023-10-07T09:41:46.487Z"
   },
   {
    "duration": 389,
    "start_time": "2023-10-07T09:41:51.194Z"
   },
   {
    "duration": 169,
    "start_time": "2023-10-07T09:43:03.697Z"
   }
  ],
  "kernelspec": {
   "display_name": "Python 3 (ipykernel)",
   "language": "python",
   "name": "python3"
  },
  "language_info": {
   "codemirror_mode": {
    "name": "ipython",
    "version": 3
   },
   "file_extension": ".py",
   "mimetype": "text/x-python",
   "name": "python",
   "nbconvert_exporter": "python",
   "pygments_lexer": "ipython3",
   "version": "3.9.13"
  },
  "toc": {
   "base_numbering": 1,
   "nav_menu": {},
   "number_sections": true,
   "sideBar": true,
   "skip_h1_title": true,
   "title_cell": "Table of Contents",
   "title_sidebar": "Contents",
   "toc_cell": false,
   "toc_position": {
    "height": "calc(100% - 180px)",
    "left": "10px",
    "top": "150px",
    "width": "201px"
   },
   "toc_section_display": true,
   "toc_window_display": true
  }
 },
 "nbformat": 4,
 "nbformat_minor": 5
}
